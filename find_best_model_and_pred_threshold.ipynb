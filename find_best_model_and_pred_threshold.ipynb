{
 "cells": [
  {
   "cell_type": "code",
   "execution_count": null,
   "id": "7aef81b2",
   "metadata": {},
   "outputs": [],
   "source": [
    "from src.training.utils.analyze_training_results_helpers import get_combinations, load_results, plot_metrics, calculate_thresholds, print_best_thresholds"
   ]
  },
  {
   "cell_type": "code",
   "execution_count": null,
   "id": "65d80f77",
   "metadata": {},
   "outputs": [],
   "source": [
    "combinations = get_combinations()\n",
    "display(combinations)"
   ]
  },
  {
   "cell_type": "code",
   "execution_count": null,
   "id": "0223d77d",
   "metadata": {},
   "outputs": [],
   "source": [
    "results_df = load_results(combinations)\n",
    "display(results_df)"
   ]
  },
  {
   "cell_type": "code",
   "execution_count": null,
   "id": "d0c44985",
   "metadata": {},
   "outputs": [],
   "source": [
    "plot_metrics(results_df)"
   ]
  },
  {
   "cell_type": "code",
   "execution_count": null,
   "id": "e3bebbc4",
   "metadata": {},
   "outputs": [],
   "source": [
    "summary_df = calculate_thresholds(combinations)"
   ]
  },
  {
   "cell_type": "code",
   "execution_count": null,
   "id": "263da0e7",
   "metadata": {},
   "outputs": [],
   "source": [
    "print_best_thresholds(summary_df, inv_per_week=7)"
   ]
  }
 ],
 "metadata": {
  "kernelspec": {
   "display_name": "insideralgo",
   "language": "python",
   "name": "python3"
  },
  "language_info": {
   "codemirror_mode": {
    "name": "ipython",
    "version": 3
   },
   "file_extension": ".py",
   "mimetype": "text/x-python",
   "name": "python",
   "nbconvert_exporter": "python",
   "pygments_lexer": "ipython3",
   "version": "3.9.19"
  }
 },
 "nbformat": 4,
 "nbformat_minor": 5
}
